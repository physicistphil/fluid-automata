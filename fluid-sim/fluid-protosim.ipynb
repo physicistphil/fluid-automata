{
 "cells": [
  {
   "cell_type": "markdown",
   "metadata": {},
   "source": [
    "Implementing GPU gems incompressible fluid solver\n",
    "\n",
    "https://developer.download.nvidia.com/books/HTML/gpugems/gpugems_ch38.html"
   ]
  },
  {
   "cell_type": "code",
   "execution_count": 1,
   "metadata": {},
   "outputs": [
    {
     "data": {
      "text/html": [
       "<style>.container { width:95% !important; }</style>"
      ],
      "text/plain": [
       "<IPython.core.display.HTML object>"
      ]
     },
     "metadata": {},
     "output_type": "display_data"
    }
   ],
   "source": [
    "from IPython.core.display import display, HTML\n",
    "display(HTML(\"<style>.container { width:95% !important; }</style>\"))"
   ]
  },
  {
   "cell_type": "code",
   "execution_count": 2,
   "metadata": {},
   "outputs": [],
   "source": [
    "import os\n",
    "os.environ['CUDA_VISIBLE_DEVICES'] = '0'\n",
    "import tensorflow as tf\n",
    "import numpy as np\n",
    "import matplotlib.pyplot as plt\n",
    "from functools import partial"
   ]
  },
  {
   "cell_type": "code",
   "execution_count": 214,
   "metadata": {},
   "outputs": [],
   "source": [
    "# Need to allow GPU memory growth for TF so all 8 GB or whatever are not taken up\n",
    "physical_devices = tf.config.list_physical_devices('GPU')\n",
    "try:\n",
    "    tf.config.experimental.set_memory_growth(physical_devices[0], True)\n",
    "except:\n",
    "    # Invalid device or cannot modify virtual devices once initialized.\n",
    "    pass\n",
    "\n",
    "# Create fluid grid (will start with hard-coded 512x512 2D grid)\n",
    "# Incompressible fluid: fluid state boils down to a velocity field (3 variables)\n",
    "N = 16 # Number of cells on each side of simulation grid\n",
    "u = np.zeros((N, N, 2)) # An NxN grid of fluid velocity 2-vectors\n",
    "\n",
    "# Initialize grid\n",
    "for i in range(N):\n",
    "    for j in range(N):\n",
    "        if ((i-(N/2.))**2 + (j-(N/2.))**2) < (N/4.)**2:\n",
    "            u[i, j] = np.array([-1., 1.])\n",
    "\n",
    "# Collect nobel prize"
   ]
  },
  {
   "cell_type": "code",
   "execution_count": 215,
   "metadata": {
    "scrolled": true
   },
   "outputs": [
    {
     "data": {
      "text/plain": [
       "<matplotlib.image.AxesImage at 0x7f46704db370>"
      ]
     },
     "execution_count": 215,
     "metadata": {},
     "output_type": "execute_result"
    },
    {
     "data": {
      "image/png": "[encoded data removed]",
      "text/plain": [
       "<Figure size 432x288 with 1 Axes>"
      ]
     },
     "metadata": {
      "needs_background": "light"
     },
     "output_type": "display_data"
    }
   ],
   "source": [
    "plt.figure()\n",
    "plt.imshow(u[:, :, 0])"
   ]
  },
  {
   "cell_type": "markdown",
   "metadata": {},
   "source": [
    "For periodic boundary conditions, it may be a good idea to copy one side of the grid to the other instead of using 'if's to check bounds."
   ]
  },
  {
   "cell_type": "markdown",
   "metadata": {},
   "source": [
    "Solving $\\left(I - \\nu \\delta \\nabla^2\\right) u \\left(x, t + \\delta t \\right) = u\\left(x, t \\right)$"
   ]
  },
  {
   "cell_type": "code",
   "execution_count": 232,
   "metadata": {},
   "outputs": [],
   "source": [
    "def interpolate(i, u, q, dt):\n",
    "    xcoords = tf.cast(tf.cast(i % N, tf.int32) - dt * u[tf.cast(i % N, tf.int32), tf.cast(i // N, tf.int32)][0], tf.float32)\n",
    "    ycoords = tf.cast(tf.cast(i // N, tf.int32) - dt * u[tf.cast(i % N, tf.int32), tf.cast(i // N, tf.int32)][1], tf.float32)\n",
    "    return (q[tf.cast(tf.floor(xcoords), tf.int32), tf.cast(tf.floor(ycoords), tf.int32)] * (tf.math.ceil(xcoords) - xcoords) * (tf.math.ceil(ycoords) - ycoords) +\n",
    "            q[tf.cast(tf.math.ceil(xcoords), tf.int32), tf.cast(tf.floor(ycoords), tf.int32)] * (tf.floor(xcoords) - xcoords) * (tf.math.ceil(ycoords) - ycoords) +\n",
    "            q[tf.cast(tf.floor(xcoords), tf.int32), tf.cast(tf.math.ceil(ycoords), tf.int32)] * (tf.math.ceil(xcoords) - xcoords) * (tf.floor(ycoords) - ycoords) +\n",
    "            q[tf.cast(tf.math.ceil(xcoords), tf.int32), tf.cast(tf.math.ceil(ycoords), tf.int32)] * (tf.floor(xcoords) - xcoords) * (tf.floor(ycoords) - ycoords))\n",
    "    \n",
    "# u: velocity (shape = N, N, 2)\n",
    "# q: quantity to advect\n",
    "# dt: timestep\n",
    "# (x, y) convection for loops. x = i % N, y = i // N\n",
    "def advect(u, q, dt):\n",
    "    data = tf.zeros([N ** 2, 2])\n",
    "    \n",
    "    ini = [tf.constant(0, dtype=tf.int32), tf.constant([1, 2])]\n",
    "    test = partial(interpolate, u=u, q=q, dt=dt)\n",
    "    cond = lambda k, p: k < N * N\n",
    "    func = lambda k, p: (k + 1, test(k))\n",
    "    count, data = tf.while_loop(cond, func, loop_vars=ini, parallel_iterations=2560)\n",
    "    \n",
    "    return data"
   ]
  },
  {
   "cell_type": "code",
   "execution_count": 233,
   "metadata": {},
   "outputs": [],
   "source": [
    "data = advect(u, u, 0.1)"
   ]
  },
  {
   "cell_type": "code",
   "execution_count": 234,
   "metadata": {
    "scrolled": true
   },
   "outputs": [
    {
     "data": {
      "text/plain": [
       "<tf.Tensor: shape=(2,), dtype=float32, numpy=array([0., 0.], dtype=float32)>"
      ]
     },
     "execution_count": 234,
     "metadata": {},
     "output_type": "execute_result"
    }
   ],
   "source": [
    "data"
   ]
  },
  {
   "cell_type": "code",
   "execution_count": null,
   "metadata": {},
   "outputs": [],
   "source": [
    "def diffuse(u):\n",
    "    return u"
   ]
  },
  {
   "cell_type": "code",
   "execution_count": null,
   "metadata": {},
   "outputs": [],
   "source": [
    "def addForces(u):\n",
    "    return u"
   ]
  },
  {
   "cell_type": "code",
   "execution_count": null,
   "metadata": {},
   "outputs": [],
   "source": [
    "def computePressure(u):\n",
    "    return p"
   ]
  },
  {
   "cell_type": "code",
   "execution_count": null,
   "metadata": {},
   "outputs": [],
   "source": [
    "def subtractPressureGradient(u, p):\n",
    "    return u"
   ]
  },
  {
   "cell_type": "code",
   "execution_count": null,
   "metadata": {},
   "outputs": [],
   "source": []
  },
  {
   "cell_type": "code",
   "execution_count": null,
   "metadata": {},
   "outputs": [],
   "source": [
    "u = advect(u)\n",
    "u = diffuse(u)\n",
    "u = addForces(u)\n",
    "p = computePressure(u)\n",
    "u = subtractPressureGradient(u, p)"
   ]
  },
  {
   "cell_type": "code",
   "execution_count": 6,
   "metadata": {},
   "outputs": [],
   "source": [
    "tf.compat.v1.enable_eager_execution()"
   ]
  },
  {
   "cell_type": "code",
   "execution_count": null,
   "metadata": {},
   "outputs": [],
   "source": []
  }
 ],
 "metadata": {
  "kernelspec": {
   "display_name": "fluid-automata",
   "language": "python",
   "name": "fluid-automata"
  },
  "language_info": {
   "codemirror_mode": {
    "name": "ipython",
    "version": 3
   },
   "file_extension": ".py",
   "mimetype": "text/x-python",
   "name": "python",
   "nbconvert_exporter": "python",
   "pygments_lexer": "ipython3",
   "version": "3.8.5"
  },
  "toc": {
   "base_numbering": 1,
   "nav_menu": {},
   "number_sections": true,
   "sideBar": true,
   "skip_h1_title": false,
   "title_cell": "Table of Contents",
   "title_sidebar": "Contents",
   "toc_cell": false,
   "toc_position": {},
   "toc_section_display": true,
   "toc_window_display": false
  }
 },
 "nbformat": 4,
 "nbformat_minor": 2
}
