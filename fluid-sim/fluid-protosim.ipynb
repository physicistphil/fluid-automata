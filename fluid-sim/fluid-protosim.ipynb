{
 "cells": [
  {
   "cell_type": "markdown",
   "metadata": {},
   "source": [
    "Implementing GPU gems incompressible fluid solver\n",
    "\n",
    "https://developer.download.nvidia.com/books/HTML/gpugems/gpugems_ch38.html"
   ]
  },
  {
   "cell_type": "code",
   "execution_count": 23,
   "metadata": {},
   "outputs": [
    {
     "data": {
      "text/html": [
       "<style>.container { width:95% !important; }</style>"
      ],
      "text/plain": [
       "<IPython.core.display.HTML object>"
      ]
     },
     "metadata": {},
     "output_type": "display_data"
    }
   ],
   "source": [
    "from IPython.core.display import display, HTML\n",
    "display(HTML(\"<style>.container { width:95% !important; }</style>\"))"
   ]
  },
  {
   "cell_type": "code",
   "execution_count": 12,
   "metadata": {},
   "outputs": [],
   "source": [
    "import os\n",
    "os.environ['CUDA_VISIBLE_DEVICES'] = '0'"
   ]
  },
  {
   "cell_type": "code",
   "execution_count": 19,
   "metadata": {},
   "outputs": [],
   "source": [
    "# Need to allow GPU memory growth for TF\n",
    "import tensorflow as tf\n",
    "import numpy as np\n",
    "\n",
    "# Create fluid grid (will start with hard-coded 512x512 2D grid)\n",
    "# Incompressible fluid: fluid state boils down to a velocity field (3 variables)\n",
    "N = 512 # Number of cells on each side of simulation grid\n",
    "u = np.empty((N, N, 3)) # An NxN grid of fluid velocity 3-vectors\n",
    "\n",
    "# Initialize grid\n",
    "for i in range(N):\n",
    "    for j in range(N):\n",
    "        if ((i-(N/2.))**2 + (j-(N/2.))**2) < (N/2.)**2:\n",
    "            u[i, j][0] = 1.\n",
    "\n",
    "# Collect nobel prize"
   ]
  },
  {
   "cell_type": "code",
   "execution_count": 16,
   "metadata": {},
   "outputs": [],
   "source": [
    "import matplotlib.pyplot as plt"
   ]
  },
  {
   "cell_type": "code",
   "execution_count": 17,
   "metadata": {
    "scrolled": true
   },
   "outputs": [
    {
     "data": {
      "text/plain": [
       "<matplotlib.image.AxesImage at 0x7f967b6b73d0>"
      ]
     },
     "execution_count": 17,
     "metadata": {},
     "output_type": "execute_result"
    },
    {
     "data": {
      "image/png": "[encoded data removed]",
      "text/plain": [
       "<Figure size 432x288 with 1 Axes>"
      ]
     },
     "metadata": {
      "needs_background": "light"
     },
     "output_type": "display_data"
    }
   ],
   "source": [
    "plt.figure()\n",
    "plt.imshow(u)"
   ]
  },
  {
   "cell_type": "markdown",
   "metadata": {},
   "source": [
    "For periodic boundary conditions, it may be a good idea to copy one side of the grid to the other instead of using 'if's to check bounds."
   ]
  },
  {
   "cell_type": "markdown",
   "metadata": {},
   "source": [
    "Solving $\\left(I - \\nu \\delta \\nabla^2\\right) u \\left(x, t + \\delta t \\right) = u\\left(x, t \\right)$"
   ]
  },
  {
   "cell_type": "code",
   "execution_count": 20,
   "metadata": {
    "collapsed": true
   },
   "outputs": [
    {
     "ename": "SyntaxError",
     "evalue": "invalid syntax (<ipython-input-20-f13cdd54af81>, line 1)",
     "output_type": "error",
     "traceback": [
      "\u001b[0;36m  File \u001b[0;32m\"<ipython-input-20-f13cdd54af81>\"\u001b[0;36m, line \u001b[0;32m1\u001b[0m\n\u001b[0;31m    def bilinear_interpolation:\u001b[0m\n\u001b[0m                              ^\u001b[0m\n\u001b[0;31mSyntaxError\u001b[0m\u001b[0;31m:\u001b[0m invalid syntax\n"
     ]
    }
   ],
   "source": [
    "def bilinear_interpolation:\n",
    "    f(x, y) = [1-x  x][f matrix] [1-y\n",
    "                                   y ]"
   ]
  },
  {
   "cell_type": "code",
   "execution_count": null,
   "metadata": {},
   "outputs": [],
   "source": []
  },
  {
   "cell_type": "code",
   "execution_count": null,
   "metadata": {},
   "outputs": [],
   "source": [
    "def computeCoords():\n",
    "    \n",
    "    \n",
    "# u: velocity (shape = N, N, 2)\n",
    "# q: quantity to advect\n",
    "# dt: timestep\n",
    "# (x, y) convection for loops. x = i % N, y = i // N\n",
    "def advect(u, q, dt):\n",
    "\n",
    "    cond = i < N * N\n",
    "    func = lambda u, i: u[i % N, i // N] = \n",
    "        coords = [i % N, i // N]  - dt * u[i % N, i // N]\n",
    "        q_new = (u[tf.floor(coords[0]), tf.floor(coords[1])] * (tf.ceil(coords[0]) - coords[0]) * (tf.ceil(coords[1]) - coords[1]) +\n",
    "                 u[tf.ceil(coords[0]), tf.floor(coords[1])] * (tf.floor(coords[0]) - coords[0]) * (tf.ceil(coords[1]) - coords[1]) +\n",
    "                 u[tf.floor(coords[0]), tf.ceil(coords[1])] * (tf.ceil(coords[0]) - coords[0]) * (tf.floor(coords[1]) - coords[1]) +\n",
    "                 u[tf.ceil(coords[0]), tf.ceil(coords[1])] * (tf.floor(coords[0]) - coords[0]) * (tf.floor(coords[1]) - coords[1]))\n",
    "        \n",
    "        \n",
    "        u[i % N - dt * u[i % N, i // N]]\n",
    "    \n",
    "    \n",
    "    tf.while_loop(cond, )\n",
    "    \n",
    "    u = \n",
    "    \n",
    "    tfa.image.interpolate_bilinear()\n",
    "    \n",
    "    return q"
   ]
  },
  {
   "cell_type": "code",
   "execution_count": null,
   "metadata": {},
   "outputs": [],
   "source": [
    "def diffuse(u):\n",
    "    return u"
   ]
  },
  {
   "cell_type": "code",
   "execution_count": null,
   "metadata": {},
   "outputs": [],
   "source": [
    "def addForces(u):\n",
    "    return u"
   ]
  },
  {
   "cell_type": "code",
   "execution_count": null,
   "metadata": {},
   "outputs": [],
   "source": [
    "def computePressure(u):\n",
    "    return p"
   ]
  },
  {
   "cell_type": "code",
   "execution_count": null,
   "metadata": {},
   "outputs": [],
   "source": [
    "def subtractPressureGradient(u, p):\n",
    "    return u"
   ]
  },
  {
   "cell_type": "code",
   "execution_count": null,
   "metadata": {},
   "outputs": [],
   "source": []
  },
  {
   "cell_type": "code",
   "execution_count": null,
   "metadata": {},
   "outputs": [],
   "source": [
    "u = advect(u)\n",
    "u = diffuse(u)\n",
    "u = addForces(u)\n",
    "p = computePressure(u)\n",
    "u = subtractPressureGradient(u, p)"
   ]
  }
 ],
 "metadata": {
  "kernelspec": {
   "display_name": "fluid-automata",
   "language": "python",
   "name": "fluid-automata"
  },
  "language_info": {
   "codemirror_mode": {
    "name": "ipython",
    "version": 3
   },
   "file_extension": ".py",
   "mimetype": "text/x-python",
   "name": "python",
   "nbconvert_exporter": "python",
   "pygments_lexer": "ipython3",
   "version": "3.8.5"
  },
  "toc": {
   "base_numbering": 1,
   "nav_menu": {},
   "number_sections": true,
   "sideBar": true,
   "skip_h1_title": false,
   "title_cell": "Table of Contents",
   "title_sidebar": "Contents",
   "toc_cell": false,
   "toc_position": {},
   "toc_section_display": true,
   "toc_window_display": false
  }
 },
 "nbformat": 4,
 "nbformat_minor": 2
}
